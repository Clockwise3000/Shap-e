{
  "nbformat": 4,
  "nbformat_minor": 0,
  "metadata": {
    "colab": {
      "provenance": [],
      "gpuType": "T4"
    },
    "kernelspec": {
      "name": "python3",
      "display_name": "Python 3"
    },
    "language_info": {
      "name": "python"
    },
    "accelerator": "GPU",
    "gpuClass": "standard",
    "widgets": {
      "application/vnd.jupyter.widget-state+json": {
        "3b411774e391465f8d18cd0c362fc6fd": {
          "model_module": "@jupyter-widgets/controls",
          "model_name": "HBoxModel",
          "model_module_version": "1.5.0",
          "state": {
            "_dom_classes": [],
            "_model_module": "@jupyter-widgets/controls",
            "_model_module_version": "1.5.0",
            "_model_name": "HBoxModel",
            "_view_count": null,
            "_view_module": "@jupyter-widgets/controls",
            "_view_module_version": "1.5.0",
            "_view_name": "HBoxView",
            "box_style": "",
            "children": [
              "IPY_MODEL_4ffb653c4cd445e0a0b0905b9b9b932d",
              "IPY_MODEL_9dfd9b18c71f4c4ca96bb0abcfd95cfa",
              "IPY_MODEL_49f8fdb9452e440b972bd9aab92cd3ed"
            ],
            "layout": "IPY_MODEL_e3109f461caa437b85fff07ed6d6a073"
          }
        },
        "4ffb653c4cd445e0a0b0905b9b9b932d": {
          "model_module": "@jupyter-widgets/controls",
          "model_name": "HTMLModel",
          "model_module_version": "1.5.0",
          "state": {
            "_dom_classes": [],
            "_model_module": "@jupyter-widgets/controls",
            "_model_module_version": "1.5.0",
            "_model_name": "HTMLModel",
            "_view_count": null,
            "_view_module": "@jupyter-widgets/controls",
            "_view_module_version": "1.5.0",
            "_view_name": "HTMLView",
            "description": "",
            "description_tooltip": null,
            "layout": "IPY_MODEL_1a54db0bcd454cd081f3c5e0743172cb",
            "placeholder": "​",
            "style": "IPY_MODEL_e8aaa53864d04329b6af6523d47d81c4",
            "value": "100%"
          }
        },
        "9dfd9b18c71f4c4ca96bb0abcfd95cfa": {
          "model_module": "@jupyter-widgets/controls",
          "model_name": "FloatProgressModel",
          "model_module_version": "1.5.0",
          "state": {
            "_dom_classes": [],
            "_model_module": "@jupyter-widgets/controls",
            "_model_module_version": "1.5.0",
            "_model_name": "FloatProgressModel",
            "_view_count": null,
            "_view_module": "@jupyter-widgets/controls",
            "_view_module_version": "1.5.0",
            "_view_name": "ProgressView",
            "bar_style": "success",
            "description": "",
            "description_tooltip": null,
            "layout": "IPY_MODEL_5011d7486a1f48be9901065da851a071",
            "max": 64,
            "min": 0,
            "orientation": "horizontal",
            "style": "IPY_MODEL_22096f39760c435eaac566fee311a515",
            "value": 64
          }
        },
        "49f8fdb9452e440b972bd9aab92cd3ed": {
          "model_module": "@jupyter-widgets/controls",
          "model_name": "HTMLModel",
          "model_module_version": "1.5.0",
          "state": {
            "_dom_classes": [],
            "_model_module": "@jupyter-widgets/controls",
            "_model_module_version": "1.5.0",
            "_model_name": "HTMLModel",
            "_view_count": null,
            "_view_module": "@jupyter-widgets/controls",
            "_view_module_version": "1.5.0",
            "_view_name": "HTMLView",
            "description": "",
            "description_tooltip": null,
            "layout": "IPY_MODEL_dedc5224d7c94fdbb5291c5298b4be1a",
            "placeholder": "​",
            "style": "IPY_MODEL_1e19d9b8032a49bf9d1c8243bedf197e",
            "value": " 64/64 [01:35&lt;00:00,  1.25s/it]"
          }
        },
        "e3109f461caa437b85fff07ed6d6a073": {
          "model_module": "@jupyter-widgets/base",
          "model_name": "LayoutModel",
          "model_module_version": "1.2.0",
          "state": {
            "_model_module": "@jupyter-widgets/base",
            "_model_module_version": "1.2.0",
            "_model_name": "LayoutModel",
            "_view_count": null,
            "_view_module": "@jupyter-widgets/base",
            "_view_module_version": "1.2.0",
            "_view_name": "LayoutView",
            "align_content": null,
            "align_items": null,
            "align_self": null,
            "border": null,
            "bottom": null,
            "display": null,
            "flex": null,
            "flex_flow": null,
            "grid_area": null,
            "grid_auto_columns": null,
            "grid_auto_flow": null,
            "grid_auto_rows": null,
            "grid_column": null,
            "grid_gap": null,
            "grid_row": null,
            "grid_template_areas": null,
            "grid_template_columns": null,
            "grid_template_rows": null,
            "height": null,
            "justify_content": null,
            "justify_items": null,
            "left": null,
            "margin": null,
            "max_height": null,
            "max_width": null,
            "min_height": null,
            "min_width": null,
            "object_fit": null,
            "object_position": null,
            "order": null,
            "overflow": null,
            "overflow_x": null,
            "overflow_y": null,
            "padding": null,
            "right": null,
            "top": null,
            "visibility": null,
            "width": null
          }
        },
        "1a54db0bcd454cd081f3c5e0743172cb": {
          "model_module": "@jupyter-widgets/base",
          "model_name": "LayoutModel",
          "model_module_version": "1.2.0",
          "state": {
            "_model_module": "@jupyter-widgets/base",
            "_model_module_version": "1.2.0",
            "_model_name": "LayoutModel",
            "_view_count": null,
            "_view_module": "@jupyter-widgets/base",
            "_view_module_version": "1.2.0",
            "_view_name": "LayoutView",
            "align_content": null,
            "align_items": null,
            "align_self": null,
            "border": null,
            "bottom": null,
            "display": null,
            "flex": null,
            "flex_flow": null,
            "grid_area": null,
            "grid_auto_columns": null,
            "grid_auto_flow": null,
            "grid_auto_rows": null,
            "grid_column": null,
            "grid_gap": null,
            "grid_row": null,
            "grid_template_areas": null,
            "grid_template_columns": null,
            "grid_template_rows": null,
            "height": null,
            "justify_content": null,
            "justify_items": null,
            "left": null,
            "margin": null,
            "max_height": null,
            "max_width": null,
            "min_height": null,
            "min_width": null,
            "object_fit": null,
            "object_position": null,
            "order": null,
            "overflow": null,
            "overflow_x": null,
            "overflow_y": null,
            "padding": null,
            "right": null,
            "top": null,
            "visibility": null,
            "width": null
          }
        },
        "e8aaa53864d04329b6af6523d47d81c4": {
          "model_module": "@jupyter-widgets/controls",
          "model_name": "DescriptionStyleModel",
          "model_module_version": "1.5.0",
          "state": {
            "_model_module": "@jupyter-widgets/controls",
            "_model_module_version": "1.5.0",
            "_model_name": "DescriptionStyleModel",
            "_view_count": null,
            "_view_module": "@jupyter-widgets/base",
            "_view_module_version": "1.2.0",
            "_view_name": "StyleView",
            "description_width": ""
          }
        },
        "5011d7486a1f48be9901065da851a071": {
          "model_module": "@jupyter-widgets/base",
          "model_name": "LayoutModel",
          "model_module_version": "1.2.0",
          "state": {
            "_model_module": "@jupyter-widgets/base",
            "_model_module_version": "1.2.0",
            "_model_name": "LayoutModel",
            "_view_count": null,
            "_view_module": "@jupyter-widgets/base",
            "_view_module_version": "1.2.0",
            "_view_name": "LayoutView",
            "align_content": null,
            "align_items": null,
            "align_self": null,
            "border": null,
            "bottom": null,
            "display": null,
            "flex": null,
            "flex_flow": null,
            "grid_area": null,
            "grid_auto_columns": null,
            "grid_auto_flow": null,
            "grid_auto_rows": null,
            "grid_column": null,
            "grid_gap": null,
            "grid_row": null,
            "grid_template_areas": null,
            "grid_template_columns": null,
            "grid_template_rows": null,
            "height": null,
            "justify_content": null,
            "justify_items": null,
            "left": null,
            "margin": null,
            "max_height": null,
            "max_width": null,
            "min_height": null,
            "min_width": null,
            "object_fit": null,
            "object_position": null,
            "order": null,
            "overflow": null,
            "overflow_x": null,
            "overflow_y": null,
            "padding": null,
            "right": null,
            "top": null,
            "visibility": null,
            "width": null
          }
        },
        "22096f39760c435eaac566fee311a515": {
          "model_module": "@jupyter-widgets/controls",
          "model_name": "ProgressStyleModel",
          "model_module_version": "1.5.0",
          "state": {
            "_model_module": "@jupyter-widgets/controls",
            "_model_module_version": "1.5.0",
            "_model_name": "ProgressStyleModel",
            "_view_count": null,
            "_view_module": "@jupyter-widgets/base",
            "_view_module_version": "1.2.0",
            "_view_name": "StyleView",
            "bar_color": null,
            "description_width": ""
          }
        },
        "dedc5224d7c94fdbb5291c5298b4be1a": {
          "model_module": "@jupyter-widgets/base",
          "model_name": "LayoutModel",
          "model_module_version": "1.2.0",
          "state": {
            "_model_module": "@jupyter-widgets/base",
            "_model_module_version": "1.2.0",
            "_model_name": "LayoutModel",
            "_view_count": null,
            "_view_module": "@jupyter-widgets/base",
            "_view_module_version": "1.2.0",
            "_view_name": "LayoutView",
            "align_content": null,
            "align_items": null,
            "align_self": null,
            "border": null,
            "bottom": null,
            "display": null,
            "flex": null,
            "flex_flow": null,
            "grid_area": null,
            "grid_auto_columns": null,
            "grid_auto_flow": null,
            "grid_auto_rows": null,
            "grid_column": null,
            "grid_gap": null,
            "grid_row": null,
            "grid_template_areas": null,
            "grid_template_columns": null,
            "grid_template_rows": null,
            "height": null,
            "justify_content": null,
            "justify_items": null,
            "left": null,
            "margin": null,
            "max_height": null,
            "max_width": null,
            "min_height": null,
            "min_width": null,
            "object_fit": null,
            "object_position": null,
            "order": null,
            "overflow": null,
            "overflow_x": null,
            "overflow_y": null,
            "padding": null,
            "right": null,
            "top": null,
            "visibility": null,
            "width": null
          }
        },
        "1e19d9b8032a49bf9d1c8243bedf197e": {
          "model_module": "@jupyter-widgets/controls",
          "model_name": "DescriptionStyleModel",
          "model_module_version": "1.5.0",
          "state": {
            "_model_module": "@jupyter-widgets/controls",
            "_model_module_version": "1.5.0",
            "_model_name": "DescriptionStyleModel",
            "_view_count": null,
            "_view_module": "@jupyter-widgets/base",
            "_view_module_version": "1.2.0",
            "_view_name": "StyleView",
            "description_width": ""
          }
        },
        "9dc61146f5f244e3b65a2f599ebe6d67": {
          "model_module": "@jupyter-widgets/controls",
          "model_name": "HTMLModel",
          "model_module_version": "1.5.0",
          "state": {
            "_dom_classes": [],
            "_model_module": "@jupyter-widgets/controls",
            "_model_module_version": "1.5.0",
            "_model_name": "HTMLModel",
            "_view_count": null,
            "_view_module": "@jupyter-widgets/controls",
            "_view_module_version": "1.5.0",
            "_view_name": "HTMLView",
            "description": "",
            "description_tooltip": null,
            "layout": "IPY_MODEL_ebb1783e29324c99870d80abf6bcd2b9",
            "placeholder": "​",
            "style": "IPY_MODEL_240030b3888e4da0b77998709daad973",
            "value": "<img src=\"data:image/gif;base64,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\" />"
          }
        },
        "ebb1783e29324c99870d80abf6bcd2b9": {
          "model_module": "@jupyter-widgets/base",
          "model_name": "LayoutModel",
          "model_module_version": "1.2.0",
          "state": {
            "_model_module": "@jupyter-widgets/base",
            "_model_module_version": "1.2.0",
            "_model_name": "LayoutModel",
            "_view_count": null,
            "_view_module": "@jupyter-widgets/base",
            "_view_module_version": "1.2.0",
            "_view_name": "LayoutView",
            "align_content": null,
            "align_items": null,
            "align_self": null,
            "border": null,
            "bottom": null,
            "display": null,
            "flex": null,
            "flex_flow": null,
            "grid_area": null,
            "grid_auto_columns": null,
            "grid_auto_flow": null,
            "grid_auto_rows": null,
            "grid_column": null,
            "grid_gap": null,
            "grid_row": null,
            "grid_template_areas": null,
            "grid_template_columns": null,
            "grid_template_rows": null,
            "height": null,
            "justify_content": null,
            "justify_items": null,
            "left": null,
            "margin": null,
            "max_height": null,
            "max_width": null,
            "min_height": null,
            "min_width": null,
            "object_fit": null,
            "object_position": null,
            "order": null,
            "overflow": null,
            "overflow_x": null,
            "overflow_y": null,
            "padding": null,
            "right": null,
            "top": null,
            "visibility": null,
            "width": null
          }
        },
        "240030b3888e4da0b77998709daad973": {
          "model_module": "@jupyter-widgets/controls",
          "model_name": "DescriptionStyleModel",
          "model_module_version": "1.5.0",
          "state": {
            "_model_module": "@jupyter-widgets/controls",
            "_model_module_version": "1.5.0",
            "_model_name": "DescriptionStyleModel",
            "_view_count": null,
            "_view_module": "@jupyter-widgets/base",
            "_view_module_version": "1.2.0",
            "_view_name": "StyleView",
            "description_width": ""
          }
        },
        "4979ab39487f453284310de07ec42da3": {
          "model_module": "@jupyter-widgets/controls",
          "model_name": "HTMLModel",
          "model_module_version": "1.5.0",
          "state": {
            "_dom_classes": [],
            "_model_module": "@jupyter-widgets/controls",
            "_model_module_version": "1.5.0",
            "_model_name": "HTMLModel",
            "_view_count": null,
            "_view_module": "@jupyter-widgets/controls",
            "_view_module_version": "1.5.0",
            "_view_name": "HTMLView",
            "description": "",
            "description_tooltip": null,
            "layout": "IPY_MODEL_22fb5b79743c484d96cf340937a66cea",
            "placeholder": "​",
            "style": "IPY_MODEL_312b3b1a492e4a6eafc4c5b73b4aa47e",
            "value": "<img src=\"data:image/gif;base64,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\" />"
          }
        },
        "22fb5b79743c484d96cf340937a66cea": {
          "model_module": "@jupyter-widgets/base",
          "model_name": "LayoutModel",
          "model_module_version": "1.2.0",
          "state": {
            "_model_module": "@jupyter-widgets/base",
            "_model_module_version": "1.2.0",
            "_model_name": "LayoutModel",
            "_view_count": null,
            "_view_module": "@jupyter-widgets/base",
            "_view_module_version": "1.2.0",
            "_view_name": "LayoutView",
            "align_content": null,
            "align_items": null,
            "align_self": null,
            "border": null,
            "bottom": null,
            "display": null,
            "flex": null,
            "flex_flow": null,
            "grid_area": null,
            "grid_auto_columns": null,
            "grid_auto_flow": null,
            "grid_auto_rows": null,
            "grid_column": null,
            "grid_gap": null,
            "grid_row": null,
            "grid_template_areas": null,
            "grid_template_columns": null,
            "grid_template_rows": null,
            "height": null,
            "justify_content": null,
            "justify_items": null,
            "left": null,
            "margin": null,
            "max_height": null,
            "max_width": null,
            "min_height": null,
            "min_width": null,
            "object_fit": null,
            "object_position": null,
            "order": null,
            "overflow": null,
            "overflow_x": null,
            "overflow_y": null,
            "padding": null,
            "right": null,
            "top": null,
            "visibility": null,
            "width": null
          }
        },
        "312b3b1a492e4a6eafc4c5b73b4aa47e": {
          "model_module": "@jupyter-widgets/controls",
          "model_name": "DescriptionStyleModel",
          "model_module_version": "1.5.0",
          "state": {
            "_model_module": "@jupyter-widgets/controls",
            "_model_module_version": "1.5.0",
            "_model_name": "DescriptionStyleModel",
            "_view_count": null,
            "_view_module": "@jupyter-widgets/base",
            "_view_module_version": "1.2.0",
            "_view_name": "StyleView",
            "description_width": ""
          }
        },
        "ee386f9bd80e4a5298f0dac7cee7869a": {
          "model_module": "@jupyter-widgets/controls",
          "model_name": "HTMLModel",
          "model_module_version": "1.5.0",
          "state": {
            "_dom_classes": [],
            "_model_module": "@jupyter-widgets/controls",
            "_model_module_version": "1.5.0",
            "_model_name": "HTMLModel",
            "_view_count": null,
            "_view_module": "@jupyter-widgets/controls",
            "_view_module_version": "1.5.0",
            "_view_name": "HTMLView",
            "description": "",
            "description_tooltip": null,
            "layout": "IPY_MODEL_8b86e3e75a4548d8b3e669655062c08c",
            "placeholder": "​",
            "style": "IPY_MODEL_ceb8702c7953493992cfdb0f0fb52c47",
            "value": "<img src=\"data:image/gif;base64,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\" />"
          }
        },
        "8b86e3e75a4548d8b3e669655062c08c": {
          "model_module": "@jupyter-widgets/base",
          "model_name": "LayoutModel",
          "model_module_version": "1.2.0",
          "state": {
            "_model_module": "@jupyter-widgets/base",
            "_model_module_version": "1.2.0",
            "_model_name": "LayoutModel",
            "_view_count": null,
            "_view_module": "@jupyter-widgets/base",
            "_view_module_version": "1.2.0",
            "_view_name": "LayoutView",
            "align_content": null,
            "align_items": null,
            "align_self": null,
            "border": null,
            "bottom": null,
            "display": null,
            "flex": null,
            "flex_flow": null,
            "grid_area": null,
            "grid_auto_columns": null,
            "grid_auto_flow": null,
            "grid_auto_rows": null,
            "grid_column": null,
            "grid_gap": null,
            "grid_row": null,
            "grid_template_areas": null,
            "grid_template_columns": null,
            "grid_template_rows": null,
            "height": null,
            "justify_content": null,
            "justify_items": null,
            "left": null,
            "margin": null,
            "max_height": null,
            "max_width": null,
            "min_height": null,
            "min_width": null,
            "object_fit": null,
            "object_position": null,
            "order": null,
            "overflow": null,
            "overflow_x": null,
            "overflow_y": null,
            "padding": null,
            "right": null,
            "top": null,
            "visibility": null,
            "width": null
          }
        },
        "ceb8702c7953493992cfdb0f0fb52c47": {
          "model_module": "@jupyter-widgets/controls",
          "model_name": "DescriptionStyleModel",
          "model_module_version": "1.5.0",
          "state": {
            "_model_module": "@jupyter-widgets/controls",
            "_model_module_version": "1.5.0",
            "_model_name": "DescriptionStyleModel",
            "_view_count": null,
            "_view_module": "@jupyter-widgets/base",
            "_view_module_version": "1.2.0",
            "_view_name": "StyleView",
            "description_width": ""
          }
        },
        "912660863851489785f321b730d01030": {
          "model_module": "@jupyter-widgets/controls",
          "model_name": "HTMLModel",
          "model_module_version": "1.5.0",
          "state": {
            "_dom_classes": [],
            "_model_module": "@jupyter-widgets/controls",
            "_model_module_version": "1.5.0",
            "_model_name": "HTMLModel",
            "_view_count": null,
            "_view_module": "@jupyter-widgets/controls",
            "_view_module_version": "1.5.0",
            "_view_name": "HTMLView",
            "description": "",
            "description_tooltip": null,
            "layout": "IPY_MODEL_9a5424dd5a16421e9d60cf2543611b21",
            "placeholder": "​",
            "style": "IPY_MODEL_69b1bbc8df2a44849f67351fb29ba1e9",
            "value": "<img src=\"data:image/gif;base64,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\" />"
          }
        },
        "9a5424dd5a16421e9d60cf2543611b21": {
          "model_module": "@jupyter-widgets/base",
          "model_name": "LayoutModel",
          "model_module_version": "1.2.0",
          "state": {
            "_model_module": "@jupyter-widgets/base",
            "_model_module_version": "1.2.0",
            "_model_name": "LayoutModel",
            "_view_count": null,
            "_view_module": "@jupyter-widgets/base",
            "_view_module_version": "1.2.0",
            "_view_name": "LayoutView",
            "align_content": null,
            "align_items": null,
            "align_self": null,
            "border": null,
            "bottom": null,
            "display": null,
            "flex": null,
            "flex_flow": null,
            "grid_area": null,
            "grid_auto_columns": null,
            "grid_auto_flow": null,
            "grid_auto_rows": null,
            "grid_column": null,
            "grid_gap": null,
            "grid_row": null,
            "grid_template_areas": null,
            "grid_template_columns": null,
            "grid_template_rows": null,
            "height": null,
            "justify_content": null,
            "justify_items": null,
            "left": null,
            "margin": null,
            "max_height": null,
            "max_width": null,
            "min_height": null,
            "min_width": null,
            "object_fit": null,
            "object_position": null,
            "order": null,
            "overflow": null,
            "overflow_x": null,
            "overflow_y": null,
            "padding": null,
            "right": null,
            "top": null,
            "visibility": null,
            "width": null
          }
        },
        "69b1bbc8df2a44849f67351fb29ba1e9": {
          "model_module": "@jupyter-widgets/controls",
          "model_name": "DescriptionStyleModel",
          "model_module_version": "1.5.0",
          "state": {
            "_model_module": "@jupyter-widgets/controls",
            "_model_module_version": "1.5.0",
            "_model_name": "DescriptionStyleModel",
            "_view_count": null,
            "_view_module": "@jupyter-widgets/base",
            "_view_module_version": "1.2.0",
            "_view_name": "StyleView",
            "description_width": ""
          }
        }
      }
    }
  },
  "cells": [
    {
      "cell_type": "code",
      "execution_count": 2,
      "metadata": {
        "colab": {
          "base_uri": "https://localhost:8080/"
        },
        "id": "dQXsqFE56mFy",
        "outputId": "04a5d92b-2953-462d-dff1-e8a7d64c4bb5"
      },
      "outputs": [
        {
          "output_type": "stream",
          "name": "stdout",
          "text": [
            "Cloning into 'shap-e'...\n",
            "remote: Enumerating objects: 325, done.\u001b[K\n",
            "remote: Counting objects: 100% (47/47), done.\u001b[K\n",
            "remote: Compressing objects: 100% (33/33), done.\u001b[K\n",
            "remote: Total 325 (delta 30), reused 15 (delta 14), pack-reused 278\u001b[K\n",
            "Receiving objects: 100% (325/325), 11.71 MiB | 4.15 MiB/s, done.\n",
            "Resolving deltas: 100% (47/47), done.\n"
          ]
        }
      ],
      "source": [
        "!git clone https://github.com/openai/shap-e.git"
      ]
    },
    {
      "cell_type": "code",
      "source": [
        "%cd shap-e"
      ],
      "metadata": {
        "colab": {
          "base_uri": "https://localhost:8080/"
        },
        "id": "HQxgfEaY6vDN",
        "outputId": "8b55b2b6-1327-4278-9824-fb4a947766be"
      },
      "execution_count": 3,
      "outputs": [
        {
          "output_type": "stream",
          "name": "stdout",
          "text": [
            "/content/shap-e\n"
          ]
        }
      ]
    },
    {
      "cell_type": "code",
      "source": [
        "!pip install -e ."
      ],
      "metadata": {
        "colab": {
          "base_uri": "https://localhost:8080/"
        },
        "id": "elSpKTvh6w_9",
        "outputId": "35102b04-c249-4a2a-d3e0-5a1bb42bf2cd"
      },
      "execution_count": 4,
      "outputs": [
        {
          "output_type": "stream",
          "name": "stdout",
          "text": [
            "Looking in indexes: https://pypi.org/simple, https://us-python.pkg.dev/colab-wheels/public/simple/\n",
            "Obtaining file:///content/shap-e\n",
            "  Preparing metadata (setup.py) ... \u001b[?25l\u001b[?25hdone\n",
            "Collecting clip@ git+https://github.com/openai/CLIP.git (from shap-e==0.0.0)\n",
            "  Cloning https://github.com/openai/CLIP.git to /tmp/pip-install-c4dxy4bs/clip_e0cea1baac894c5fb97f101ea8875b95\n",
            "  Running command git clone --filter=blob:none --quiet https://github.com/openai/CLIP.git /tmp/pip-install-c4dxy4bs/clip_e0cea1baac894c5fb97f101ea8875b95\n",
            "  Resolved https://github.com/openai/CLIP.git to commit a9b1bf5920416aaeaec965c25dd9e8f98c864f16\n",
            "  Preparing metadata (setup.py) ... \u001b[?25l\u001b[?25hdone\n",
            "Requirement already satisfied: filelock in /usr/local/lib/python3.10/dist-packages (from shap-e==0.0.0) (3.12.0)\n",
            "Requirement already satisfied: Pillow in /usr/local/lib/python3.10/dist-packages (from shap-e==0.0.0) (8.4.0)\n",
            "Requirement already satisfied: torch in /usr/local/lib/python3.10/dist-packages (from shap-e==0.0.0) (2.0.1+cu118)\n",
            "Collecting fire (from shap-e==0.0.0)\n",
            "  Downloading fire-0.5.0.tar.gz (88 kB)\n",
            "\u001b[2K     \u001b[90m━━━━━━━━━━━━━━━━━━━━━━━━━━━━━━━━━━━━━━━━\u001b[0m \u001b[32m88.3/88.3 kB\u001b[0m \u001b[31m6.3 MB/s\u001b[0m eta \u001b[36m0:00:00\u001b[0m\n",
            "\u001b[?25h  Preparing metadata (setup.py) ... \u001b[?25l\u001b[?25hdone\n",
            "Requirement already satisfied: humanize in /usr/local/lib/python3.10/dist-packages (from shap-e==0.0.0) (4.6.0)\n",
            "Requirement already satisfied: requests in /usr/local/lib/python3.10/dist-packages (from shap-e==0.0.0) (2.27.1)\n",
            "Requirement already satisfied: tqdm in /usr/local/lib/python3.10/dist-packages (from shap-e==0.0.0) (4.65.0)\n",
            "Requirement already satisfied: matplotlib in /usr/local/lib/python3.10/dist-packages (from shap-e==0.0.0) (3.7.1)\n",
            "Requirement already satisfied: scikit-image in /usr/local/lib/python3.10/dist-packages (from shap-e==0.0.0) (0.19.3)\n",
            "Requirement already satisfied: scipy in /usr/local/lib/python3.10/dist-packages (from shap-e==0.0.0) (1.10.1)\n",
            "Requirement already satisfied: numpy in /usr/local/lib/python3.10/dist-packages (from shap-e==0.0.0) (1.22.4)\n",
            "Collecting blobfile (from shap-e==0.0.0)\n",
            "  Downloading blobfile-2.0.2-py3-none-any.whl (74 kB)\n",
            "\u001b[2K     \u001b[90m━━━━━━━━━━━━━━━━━━━━━━━━━━━━━━━━━━━━━━━━\u001b[0m \u001b[32m74.5/74.5 kB\u001b[0m \u001b[31m6.0 MB/s\u001b[0m eta \u001b[36m0:00:00\u001b[0m\n",
            "\u001b[?25hCollecting pycryptodomex~=3.8 (from blobfile->shap-e==0.0.0)\n",
            "  Downloading pycryptodomex-3.18.0-cp35-abi3-manylinux_2_17_x86_64.manylinux2014_x86_64.whl (2.1 MB)\n",
            "\u001b[2K     \u001b[90m━━━━━━━━━━━━━━━━━━━━━━━━━━━━━━━━━━━━━━━━\u001b[0m \u001b[32m2.1/2.1 MB\u001b[0m \u001b[31m71.4 MB/s\u001b[0m eta \u001b[36m0:00:00\u001b[0m\n",
            "\u001b[?25hRequirement already satisfied: urllib3<3,>=1.25.3 in /usr/local/lib/python3.10/dist-packages (from blobfile->shap-e==0.0.0) (1.26.15)\n",
            "Requirement already satisfied: lxml~=4.9 in /usr/local/lib/python3.10/dist-packages (from blobfile->shap-e==0.0.0) (4.9.2)\n",
            "Collecting ftfy (from clip@ git+https://github.com/openai/CLIP.git->shap-e==0.0.0)\n",
            "  Downloading ftfy-6.1.1-py3-none-any.whl (53 kB)\n",
            "\u001b[2K     \u001b[90m━━━━━━━━━━━━━━━━━━━━━━━━━━━━━━━━━━━━━━━━\u001b[0m \u001b[32m53.1/53.1 kB\u001b[0m \u001b[31m6.9 MB/s\u001b[0m eta \u001b[36m0:00:00\u001b[0m\n",
            "\u001b[?25hRequirement already satisfied: regex in /usr/local/lib/python3.10/dist-packages (from clip@ git+https://github.com/openai/CLIP.git->shap-e==0.0.0) (2022.10.31)\n",
            "Requirement already satisfied: torchvision in /usr/local/lib/python3.10/dist-packages (from clip@ git+https://github.com/openai/CLIP.git->shap-e==0.0.0) (0.15.2+cu118)\n",
            "Requirement already satisfied: six in /usr/local/lib/python3.10/dist-packages (from fire->shap-e==0.0.0) (1.16.0)\n",
            "Requirement already satisfied: termcolor in /usr/local/lib/python3.10/dist-packages (from fire->shap-e==0.0.0) (2.3.0)\n",
            "Requirement already satisfied: contourpy>=1.0.1 in /usr/local/lib/python3.10/dist-packages (from matplotlib->shap-e==0.0.0) (1.0.7)\n",
            "Requirement already satisfied: cycler>=0.10 in /usr/local/lib/python3.10/dist-packages (from matplotlib->shap-e==0.0.0) (0.11.0)\n",
            "Requirement already satisfied: fonttools>=4.22.0 in /usr/local/lib/python3.10/dist-packages (from matplotlib->shap-e==0.0.0) (4.39.3)\n",
            "Requirement already satisfied: kiwisolver>=1.0.1 in /usr/local/lib/python3.10/dist-packages (from matplotlib->shap-e==0.0.0) (1.4.4)\n",
            "Requirement already satisfied: packaging>=20.0 in /usr/local/lib/python3.10/dist-packages (from matplotlib->shap-e==0.0.0) (23.1)\n",
            "Requirement already satisfied: pyparsing>=2.3.1 in /usr/local/lib/python3.10/dist-packages (from matplotlib->shap-e==0.0.0) (3.0.9)\n",
            "Requirement already satisfied: python-dateutil>=2.7 in /usr/local/lib/python3.10/dist-packages (from matplotlib->shap-e==0.0.0) (2.8.2)\n",
            "Requirement already satisfied: certifi>=2017.4.17 in /usr/local/lib/python3.10/dist-packages (from requests->shap-e==0.0.0) (2022.12.7)\n",
            "Requirement already satisfied: charset-normalizer~=2.0.0 in /usr/local/lib/python3.10/dist-packages (from requests->shap-e==0.0.0) (2.0.12)\n",
            "Requirement already satisfied: idna<4,>=2.5 in /usr/local/lib/python3.10/dist-packages (from requests->shap-e==0.0.0) (3.4)\n",
            "Requirement already satisfied: networkx>=2.2 in /usr/local/lib/python3.10/dist-packages (from scikit-image->shap-e==0.0.0) (3.1)\n",
            "Requirement already satisfied: imageio>=2.4.1 in /usr/local/lib/python3.10/dist-packages (from scikit-image->shap-e==0.0.0) (2.25.1)\n",
            "Requirement already satisfied: tifffile>=2019.7.26 in /usr/local/lib/python3.10/dist-packages (from scikit-image->shap-e==0.0.0) (2023.4.12)\n",
            "Requirement already satisfied: PyWavelets>=1.1.1 in /usr/local/lib/python3.10/dist-packages (from scikit-image->shap-e==0.0.0) (1.4.1)\n",
            "Requirement already satisfied: typing-extensions in /usr/local/lib/python3.10/dist-packages (from torch->shap-e==0.0.0) (4.5.0)\n",
            "Requirement already satisfied: sympy in /usr/local/lib/python3.10/dist-packages (from torch->shap-e==0.0.0) (1.11.1)\n",
            "Requirement already satisfied: jinja2 in /usr/local/lib/python3.10/dist-packages (from torch->shap-e==0.0.0) (3.1.2)\n",
            "Requirement already satisfied: triton==2.0.0 in /usr/local/lib/python3.10/dist-packages (from torch->shap-e==0.0.0) (2.0.0)\n",
            "Requirement already satisfied: cmake in /usr/local/lib/python3.10/dist-packages (from triton==2.0.0->torch->shap-e==0.0.0) (3.25.2)\n",
            "Requirement already satisfied: lit in /usr/local/lib/python3.10/dist-packages (from triton==2.0.0->torch->shap-e==0.0.0) (16.0.5)\n",
            "Requirement already satisfied: wcwidth>=0.2.5 in /usr/local/lib/python3.10/dist-packages (from ftfy->clip@ git+https://github.com/openai/CLIP.git->shap-e==0.0.0) (0.2.6)\n",
            "Requirement already satisfied: MarkupSafe>=2.0 in /usr/local/lib/python3.10/dist-packages (from jinja2->torch->shap-e==0.0.0) (2.1.2)\n",
            "Requirement already satisfied: mpmath>=0.19 in /usr/local/lib/python3.10/dist-packages (from sympy->torch->shap-e==0.0.0) (1.3.0)\n",
            "Building wheels for collected packages: clip, fire\n",
            "  Building wheel for clip (setup.py) ... \u001b[?25l\u001b[?25hdone\n",
            "  Created wheel for clip: filename=clip-1.0-py3-none-any.whl size=1369370 sha256=a9bd45668b2cf508166245eb82d9e6ff4dd1499290ec789007b71085cfa146b0\n",
            "  Stored in directory: /tmp/pip-ephem-wheel-cache-x9m7cpj3/wheels/da/2b/4c/d6691fa9597aac8bb85d2ac13b112deb897d5b50f5ad9a37e4\n",
            "  Building wheel for fire (setup.py) ... \u001b[?25l\u001b[?25hdone\n",
            "  Created wheel for fire: filename=fire-0.5.0-py2.py3-none-any.whl size=116932 sha256=7a74a03c7713f3f8336ed7bb9c52dd10a32dfb3e8efc5d0ea33c9871e4f8d93e\n",
            "  Stored in directory: /root/.cache/pip/wheels/90/d4/f7/9404e5db0116bd4d43e5666eaa3e70ab53723e1e3ea40c9a95\n",
            "Successfully built clip fire\n",
            "Installing collected packages: pycryptodomex, ftfy, fire, blobfile, clip, shap-e\n",
            "  Running setup.py develop for shap-e\n",
            "Successfully installed blobfile-2.0.2 clip-1.0 fire-0.5.0 ftfy-6.1.1 pycryptodomex-3.18.0 shap-e-0.0.0\n"
          ]
        }
      ]
    },
    {
      "cell_type": "code",
      "source": [
        "import torch\n",
        "from shap_e.diffusion.sample import sample_latents\n",
        "from shap_e.diffusion.gaussian_diffusion import diffusion_from_config\n",
        "from shap_e.models.download import load_model, load_config\n",
        "from shap_e.util.notebooks import create_pan_cameras, decode_latent_images, gif_widget\n",
        "\n",
        "device = torch.device('cuda' if torch.cuda.is_available() else 'cpu')\n",
        "xm = load_model('transmitter', device=device)\n",
        "model = load_model('text300M', device=device)\n",
        "diffusion = diffusion_from_config(load_config('diffusion'))\n",
        "\n",
        "batch_size = 4\n",
        "guidance_scale = 15.0\n",
        "prompt = \"Human with a robot arm made with metal and gears, male, wearing clothes, \"\n",
        "\n",
        "latents = sample_latents(\n",
        "    batch_size=batch_size,\n",
        "    model=model,\n",
        "    diffusion=diffusion,\n",
        "    guidance_scale=guidance_scale,\n",
        "    model_kwargs=dict(texts=[prompt] * batch_size),\n",
        "    progress=True,\n",
        "    clip_denoised=True,\n",
        "    use_fp16=True,\n",
        "    use_karras=True,\n",
        "    karras_steps=64,\n",
        "    sigma_min=1e-3,\n",
        "    sigma_max=160,\n",
        "    s_churn=0,\n",
        ")\n",
        "\n",
        "render_mode = 'nerf'  # you can change this to 'stf'\n",
        "size = 128  # this is the size of the renders; higher values take longer to render.\n",
        "\n",
        "cameras = create_pan_cameras(size, device)\n",
        "for i, latent in enumerate(latents):\n",
        "    images = decode_latent_images(xm, latent, cameras, rendering_mode=render_mode)\n",
        "    display(gif_widget(images))\n",
        ""
      ],
      "metadata": {
        "colab": {
          "base_uri": "https://localhost:8080/",
          "height": 611,
          "referenced_widgets": [
            "3b411774e391465f8d18cd0c362fc6fd",
            "4ffb653c4cd445e0a0b0905b9b9b932d",
            "9dfd9b18c71f4c4ca96bb0abcfd95cfa",
            "49f8fdb9452e440b972bd9aab92cd3ed",
            "e3109f461caa437b85fff07ed6d6a073",
            "1a54db0bcd454cd081f3c5e0743172cb",
            "e8aaa53864d04329b6af6523d47d81c4",
            "5011d7486a1f48be9901065da851a071",
            "22096f39760c435eaac566fee311a515",
            "dedc5224d7c94fdbb5291c5298b4be1a",
            "1e19d9b8032a49bf9d1c8243bedf197e",
            "9dc61146f5f244e3b65a2f599ebe6d67",
            "ebb1783e29324c99870d80abf6bcd2b9",
            "240030b3888e4da0b77998709daad973",
            "4979ab39487f453284310de07ec42da3",
            "22fb5b79743c484d96cf340937a66cea",
            "312b3b1a492e4a6eafc4c5b73b4aa47e",
            "ee386f9bd80e4a5298f0dac7cee7869a",
            "8b86e3e75a4548d8b3e669655062c08c",
            "ceb8702c7953493992cfdb0f0fb52c47",
            "912660863851489785f321b730d01030",
            "9a5424dd5a16421e9d60cf2543611b21",
            "69b1bbc8df2a44849f67351fb29ba1e9"
          ]
        },
        "id": "WiBWdqhXcN6g",
        "outputId": "dcff7542-7531-49e4-cffc-f073a5479668"
      },
      "execution_count": 7,
      "outputs": [
        {
          "output_type": "display_data",
          "data": {
            "text/plain": [
              "  0%|          | 0/64 [00:00<?, ?it/s]"
            ],
            "application/vnd.jupyter.widget-view+json": {
              "version_major": 2,
              "version_minor": 0,
              "model_id": "3b411774e391465f8d18cd0c362fc6fd"
            }
          },
          "metadata": {}
        },
        {
          "output_type": "display_data",
          "data": {
            "text/plain": [
              "HTML(value='<img src=\"data:image/gif;base64,R0lGODlhgACAAIQAAAAAADMAAAAzADMzAAAAMzMAMwAzMzMzM2YzMzNmM2ZmM5lmM2…"
            ],
            "application/vnd.jupyter.widget-view+json": {
              "version_major": 2,
              "version_minor": 0,
              "model_id": "9dc61146f5f244e3b65a2f599ebe6d67"
            }
          },
          "metadata": {}
        },
        {
          "output_type": "display_data",
          "data": {
            "text/plain": [
              "HTML(value='<img src=\"data:image/gif;base64,R0lGODlhgACAAIMAAAAAADMAAAAzADMzAAAAMzMAMwAzMzMzM2YzMzNmM2ZmM2YzZj…"
            ],
            "application/vnd.jupyter.widget-view+json": {
              "version_major": 2,
              "version_minor": 0,
              "model_id": "4979ab39487f453284310de07ec42da3"
            }
          },
          "metadata": {}
        },
        {
          "output_type": "display_data",
          "data": {
            "text/plain": [
              "HTML(value='<img src=\"data:image/gif;base64,R0lGODlhgACAAIMAAAAAADMAAAAzADMzADMAMwAzMzMzM2YzMzNmM2ZmMzMzZmYzZj…"
            ],
            "application/vnd.jupyter.widget-view+json": {
              "version_major": 2,
              "version_minor": 0,
              "model_id": "ee386f9bd80e4a5298f0dac7cee7869a"
            }
          },
          "metadata": {}
        },
        {
          "output_type": "display_data",
          "data": {
            "text/plain": [
              "HTML(value='<img src=\"data:image/gif;base64,R0lGODlhgACAAIQAAAAAADMAAAAzADMzAAAAMzMAMwAzMzMzM2YzMzNmM2ZmMzMzZm…"
            ],
            "application/vnd.jupyter.widget-view+json": {
              "version_major": 2,
              "version_minor": 0,
              "model_id": "912660863851489785f321b730d01030"
            }
          },
          "metadata": {}
        }
      ]
    },
    {
      "cell_type": "code",
      "source": [
        "from shap_e.util.notebooks import decode_latent_mesh\n",
        "for i, latent in enumerate(latents):\n",
        "    with open(f'example_mesh_{i}.ply', 'wb') as f:\n",
        "        decode_latent_mesh(xm, latent).tri_mesh().write_ply(f)"
      ],
      "metadata": {
        "id": "YZx7Y_hfd5uY"
      },
      "execution_count": null,
      "outputs": []
    }
  ]
}